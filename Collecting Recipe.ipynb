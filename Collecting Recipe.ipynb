{
 "cells": [
  {
   "cell_type": "code",
   "execution_count": 1,
   "metadata": {},
   "outputs": [],
   "source": [
    "import json\n",
    "import numpy as np\n",
    "import pandas as pd\n",
    "import requests"
   ]
  },
  {
   "cell_type": "code",
   "execution_count": 2,
   "metadata": {},
   "outputs": [],
   "source": [
    "headers = {'Content-Type': 'application/json'}"
   ]
  },
  {
   "cell_type": "code",
   "execution_count": 3,
   "metadata": {},
   "outputs": [
    {
     "name": "stdout",
     "output_type": "stream",
     "text": [
      "Please enter your search stringpork\n"
     ]
    }
   ],
   "source": [
    "keywords = input(\"Please enter your search string\")\n",
    "filename = keywords + '_info'\n",
    "recipe_dic = {}"
   ]
  },
  {
   "cell_type": "code",
   "execution_count": 4,
   "metadata": {},
   "outputs": [
    {
     "name": "stdout",
     "output_type": "stream",
     "text": [
      "Successful\n",
      "Recipes are saved.\n",
      "30\n"
     ]
    }
   ],
   "source": [
    "### Function to search for recipes\n",
    "def search_recipe():\n",
    "\n",
    "    api_url = 'http://api.yummly.com/v1/api/recipes?_app_id=4884cd95&_app_key=da496643eba26f82c06429b0dd386eed&q=' + keywords + '&requirePictures=true'\n",
    "    response = requests.get(api_url, headers=headers)\n",
    "\n",
    "    if response.status_code == 200:\n",
    "        return json.loads(response.content.decode('utf-8'))\n",
    "    else:\n",
    "        return None\n",
    "\n",
    "### Saving the results from search_recipe call\n",
    "recipe_info = search_recipe()\n",
    "if recipe_info is not None:\n",
    "    print (\"Successful\")\n",
    "    with open(filename, 'w') as outfile:\n",
    "        json.dump(recipe_info, outfile)\n",
    "\n",
    "else:\n",
    "    print('[!] Request Failed')\n",
    "\n",
    "with open(filename, 'r') as infile:\n",
    "    recipe = json.loads(infile.read())\n",
    "\n",
    "### Function to get recipes\n",
    "def get_recipe():\n",
    "    match_list=recipe[\"matches\"]\n",
    "    i=0\n",
    "    with open('library', 'r') as infile:\n",
    "        library = json.loads(infile.read())\n",
    "    j=len(library)\n",
    "    print (j)\n",
    "    for matches in match_list:\n",
    "        search_url = 'http://api.yummly.com/v1/api/recipe/' + match_list[i][\"id\"] + '?_app_id=4884cd95&_app_key=da496643eba26f82c06429b0dd386eed'\n",
    "        api_url = search_url\n",
    "        response = requests.get(api_url, headers=headers)\n",
    "\n",
    "        if response.status_code == 200:\n",
    "            recipe_info = json.loads(response.content.decode('utf-8'))\n",
    "            recipe_dic[i]=recipe_info\n",
    "            recipe_dic[i][\"ingredients\"]=recipe[\"matches\"][i][\"ingredients\"]\n",
    "            library[j]=recipe_dic[i]\n",
    "            i += 1\n",
    "            j += 1\n",
    "        with open(keywords, 'w') as outfile:\n",
    "            json.dump(recipe_dic, outfile)\n",
    "        with open('library', 'w') as outfile:\n",
    "            json.dump(library, outfile)\n",
    "print (\"Recipes are saved.\")\n",
    "get_recipe()"
   ]
  },
  {
   "cell_type": "code",
   "execution_count": 2,
   "metadata": {},
   "outputs": [],
   "source": [
    "library=pd.read_json(\"library\")"
   ]
  },
  {
   "cell_type": "code",
   "execution_count": 3,
   "metadata": {},
   "outputs": [
    {
     "data": {
      "text/plain": [
       "['cherry tomatoes',\n",
       " 'olive oil',\n",
       " 'garlic',\n",
       " 'salt',\n",
       " 'pepper',\n",
       " 'penne',\n",
       " 'fresh mozzarella',\n",
       " 'fresh basil']"
      ]
     },
     "execution_count": 3,
     "metadata": {},
     "output_type": "execute_result"
    }
   ],
   "source": [
    "library[0]['ingredients']"
   ]
  },
  {
   "cell_type": "raw",
   "metadata": {},
   "source": []
  },
  {
   "cell_type": "code",
   "execution_count": null,
   "metadata": {},
   "outputs": [],
   "source": []
  }
 ],
 "metadata": {
  "kernelspec": {
   "display_name": "Python 3",
   "language": "python",
   "name": "python3"
  },
  "language_info": {
   "codemirror_mode": {
    "name": "ipython",
    "version": 3
   },
   "file_extension": ".py",
   "mimetype": "text/x-python",
   "name": "python",
   "nbconvert_exporter": "python",
   "pygments_lexer": "ipython3",
   "version": "3.7.1"
  }
 },
 "nbformat": 4,
 "nbformat_minor": 2
}
