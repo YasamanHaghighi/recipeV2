{
 "cells": [
  {
   "cell_type": "code",
   "execution_count": 3,
   "metadata": {},
   "outputs": [],
   "source": [
    "import requests\n",
    "import pandas as pd\n",
    "from bs4 import BeautifulSoup"
   ]
  },
  {
   "cell_type": "code",
   "execution_count": 4,
   "metadata": {},
   "outputs": [],
   "source": [
    "import selenium\n",
    "from selenium import webdriver\n",
    "from selenium.webdriver.common.keys import Keys"
   ]
  },
  {
   "cell_type": "code",
   "execution_count": 5,
   "metadata": {},
   "outputs": [],
   "source": [
    "import re\n",
    "import os"
   ]
  },
  {
   "cell_type": "code",
   "execution_count": 6,
   "metadata": {},
   "outputs": [],
   "source": [
    "path=\"C:\\\\Users\\haghigy\\Desktop\\Project\\\\chromedriver.exe\""
   ]
  },
  {
   "cell_type": "code",
   "execution_count": null,
   "metadata": {},
   "outputs": [],
   "source": [
    "items=[]"
   ]
  },
  {
   "cell_type": "code",
   "execution_count": 397,
   "metadata": {},
   "outputs": [],
   "source": [
    "url=\"https://www.walmart.ca/en/grocery/dairy-eggs///N-3906\""
   ]
  },
  {
   "cell_type": "code",
   "execution_count": 398,
   "metadata": {},
   "outputs": [],
   "source": [
    "driver=webdriver.Chrome(path)\n",
    "driver.implicitly_wait(30)\n",
    "driver.get(url)"
   ]
  },
  {
   "cell_type": "code",
   "execution_count": 399,
   "metadata": {},
   "outputs": [],
   "source": [
    "innerHTML = driver.execute_script(\"return document.body.innerHTML\")\n",
    "soup = BeautifulSoup(innerHTML, 'html.parser')\n",
    "results= soup.find_all('div', attrs={'class':'product-details-container'})"
   ]
  },
  {
   "cell_type": "code",
   "execution_count": 400,
   "metadata": {},
   "outputs": [],
   "source": [
    "items.clear()"
   ]
  },
  {
   "cell_type": "code",
   "execution_count": 401,
   "metadata": {},
   "outputs": [],
   "source": [
    "for result in results:\n",
    "    title=result.find('h2').contents[0]\n",
    "    measure=result.find('div', attrs={'class':'description'}).contents[0][1:-1]\n",
    "    price=result.find('span', attrs={'class':'product-price-analytics'})['data-analytics-value']\n",
    "    items.append((title, measure, price))"
   ]
  },
  {
   "cell_type": "code",
   "execution_count": 402,
   "metadata": {},
   "outputs": [
    {
     "data": {
      "text/plain": [
       "[('Hereford Corned Beef', '340 g', '3.47'),\n",
       " ('Maple Leaf Vienna Sausage', '113 g', '2'),\n",
       " ('Maple Leaf Flakes of Ham', '156 g', '2.47'),\n",
       " ('Holiday Luncheon Meat', '340 g', '2.47'),\n",
       " ('Maple Leaf Flakes of Chicken', '156 g', '2.47'),\n",
       " ('SPAM 25% Less Sodium Fully Cooked Luncheon Meat', '340 g', '3.48'),\n",
       " ('Maple Leaf Chunks of Chicken', '142 g', '2.47'),\n",
       " ('Elite Ready-to-eat Chicken Salad Kit', '95 g', '1.67'),\n",
       " ('Grace Hot Vienna Sausage', '113 g', '0.97'),\n",
       " ('SPAM Fully Cooked Luncheon Meat', '340 g', '3.48'),\n",
       " ('Paris Pate Liver Pâté', '78 g', '1.97'),\n",
       " ('SPAM 20 % Less Fat Fully Cooked Luncheon Meat', '340 g', '3.48'),\n",
       " ('Burns Flakes of Ham', '156 g', '2.47'),\n",
       " ('Maple Leaf Flakes of Turkey', '156 g', '2.47'),\n",
       " ('SPAM Bacon Real Hormel Fully Cooked Luncheon Meat', '340 g', '3.48'),\n",
       " ('Great Value Luncheon Meat', '340 g', '1.77'),\n",
       " ('Swift Premium Cooked Canned Ham', '454 g', '4.97'),\n",
       " ('Maple Leaf Flakes of Ham', '156 g', '2.47'),\n",
       " ('Palm Corned Beef', '326g', '4.97'),\n",
       " ('Grace Vienna Sausage', '135 grams', '0.97'),\n",
       " ('Paris Pate Deviled Ham Pâté with Natural Smoked Flavor', '78 g', '1.57'),\n",
       " ('Paris Pate Country Style Sandwich Pâté', '78 g', '1.57'),\n",
       " (\"M'Lord Snails\", 'Count 36-42, 115 g', '2.97'),\n",
       " ('Altayib Halal Chicken', 'Altayib canned meat', '2.67'),\n",
       " (\"Corned Beef Mario's\", '340 g', '2.97'),\n",
       " ('Burns Flakes of Chicken', '156g', '2.47'),\n",
       " ('Paris Pate Ham, Veal, Bacon And Tomato Pâté', '78 g', '1.57'),\n",
       " ('Grace Kennedy Grace Halal Corned Beef', '340 g', '3.97'),\n",
       " ('Maple Leaf Chunks of Turkey', '142 g', '2.47'),\n",
       " ('Maple Leaf Klik', '340g', '3.87'),\n",
       " ('Maple Leaf Cooked Ham', '454 g', '5.97'),\n",
       " ('Grace Corned Beef', '340 Grams', '4.77'),\n",
       " ('Hereford Gluten Free Corned Beef', '198 g', '2.97'),\n",
       " ('Elite Ready-to-eat Chicken Salad with Cranberries Kit', '95 g', '1.67'),\n",
       " ('Deli-CAN-Tessen Cracked Pepper Shredded Chicken Breast', '85 g', '1.77'),\n",
       " ('Paris Pate, Liver Paté', '78 g', '1.57'),\n",
       " ('Deli-CAN-Tessen Spicy Thai Chili Shredded Chicken Breast', '85 g', '1.77'),\n",
       " ('Grace Less Salt Corned Beef', '340 g', '4.77'),\n",
       " ('Paris Pate Pork, Chicken And Veal Pâté', '78 g', '1.57'),\n",
       " ('SPAM garlic', '340 g', '3.48'),\n",
       " ('Maple Leaf KAM Luncheon Meat', '340g', '3.87'),\n",
       " ('Al Dayaa Grape Leaves', '1000 g', '4.99'),\n",
       " ('Zwan Halal Chicken & Beef Luncheon Meat', '837 g', '7.97'),\n",
       " ('Zwan Halal Chicken Luncheon Meat', '837 g', '7.97'),\n",
       " ('Zwan Halal Turkey Luncheon Meat', '837 g', '7.97'),\n",
       " ('Zwan Halal Corned Beef', '340 g', '4.27'),\n",
       " ('Al Dayaa Date Molasses', '800 g', '6.99'),\n",
       " ('Al Dayaa Carob Molasses', '800 g', '6.99')]"
      ]
     },
     "execution_count": 402,
     "metadata": {},
     "output_type": "execute_result"
    }
   ],
   "source": [
    "items"
   ]
  },
  {
   "cell_type": "code",
   "execution_count": 403,
   "metadata": {},
   "outputs": [
    {
     "data": {
      "text/plain": [
       "48"
      ]
     },
     "execution_count": 403,
     "metadata": {},
     "output_type": "execute_result"
    }
   ],
   "source": [
    "len(items)"
   ]
  },
  {
   "cell_type": "code",
   "execution_count": 404,
   "metadata": {},
   "outputs": [],
   "source": [
    "labels=['Item','Measurement','Price']\n",
    "df=pd.DataFrame.from_records(items, columns=labels)"
   ]
  },
  {
   "cell_type": "code",
   "execution_count": null,
   "metadata": {},
   "outputs": [],
   "source": []
  },
  {
   "cell_type": "code",
   "execution_count": 405,
   "metadata": {},
   "outputs": [],
   "source": [
    "df.to_excel(\"./items/canned_meat.xlsx\")"
   ]
  },
  {
   "cell_type": "code",
   "execution_count": null,
   "metadata": {},
   "outputs": [],
   "source": []
  },
  {
   "cell_type": "code",
   "execution_count": null,
   "metadata": {},
   "outputs": [],
   "source": []
  },
  {
   "cell_type": "code",
   "execution_count": 56,
   "metadata": {},
   "outputs": [
    {
     "data": {
      "text/plain": [
       "<div class=\"product-details-container\"> <div class=\"details\"> <div aria-label=\"Sealtest 2% White Milk.\" class=\"title\"> <h2 class=\"thumb-header\">Sealtest 2% White Milk</h2> </div> <!-- ko template: { name: 'product-badges', if: !!$data.badgesAnalytics(), data: { badges: badges, badgesAnalytics: badgesAnalytics, screenReaderHidden : false } } --><!-- /ko --> <div class=\"only-for-screen-reader\" data-bind=\"template: { name: 'dynamic-thumb-qty-template-only-for-screen-reader', data: {item: $root.findCartItemByRollupId('6000199044831'), variants: 1 }}\">\n",
       "<!--ko if: $data.item != null --><!-- /ko -->\n",
       "</div> <div aria-label=\"4 L.\" class=\"description\"> 4 L </div> <div class=\"fade\"></div> </div> <div class=\"ratings\" data-automation=\"stock-up-ratings\"> <div aria-label=\"This product has not been rated.\" class=\"stars rating-0_0\" data-bind=\"template: { name: 'star-ratings' }\">\n",
       "<i class=\"star\"></i> <i class=\"star\"></i> <i class=\"star\"></i> <i class=\"star\"></i> <i class=\"star\"></i>\n",
       "</div> <span aria-label=\"This product hasn’t been reviewed.\" class=\"review-count\">0 Reviews</span> <div class=\"fade\"></div> </div> <div class=\"pricing-spacer\" data-bind=\"component: { name: 'was-pricing', params: availability().pricing }\"><div class=\"price-was\" data-bind=\"html: wasPriceDisplay\"></div><div class=\"price-cover\"></div><div class=\"price-cover-percent\"></div><div class=\"price-unit\" data-bind='template: {name: \"price-per-unit-tooltip-template\", data: pricePerUnit, afterRender: $root.initPricingPopup }'>\n",
       "<a aria-label=\". Price is measured as \" class=\"popup-opener popup-align-left price-unit-tooltip\" data-bind=\"text: $data, attr:{'aria-label' : '. Price is measured as ' + $data}\" data-title=\"This is a unit of measurement to help you compare the value of this item. Please know, this is not the price of the item itself.\" data-title-headline=\"\"></a>\n",
       "</div></div> <span class=\"all-price-sections\"> <!-- ko ifnot: availability().pricing.mapPrice --> <div class=\"only-for-screen-reader\" id=\"price\">Price</div> <div class=\"price-current\" data-bind=\"component: { name: 'current-pricing', params: { price: availability().pricing, simpleFormatting: true } }, css: { ranged: availability().pricing.ranged }\"><div data-bind=\"possibleRangedCurrencyText: { data: price, simpleFormatting: simpleFormatting } \"><span>$</span>4.27</div><div data-bind='template: {name: \"analytics-price-template\", data: price, afterRender: $root.initVariableWeightPopup }'>\n",
       "<span class=\"product-price-analytics\" data-analytics-type=\"product-price\" data-analytics-value=\"4.27\" data-bind=\"attr: { 'data-analytics-value': $data }\" style=\"display:none;\">\n",
       "</span>\n",
       "</div></div> <!-- /ko --> <!-- ko if: availability().pricing.mapPrice --><!-- /ko --> </span> </div>"
      ]
     },
     "execution_count": 56,
     "metadata": {},
     "output_type": "execute_result"
    }
   ],
   "source": [
    "results[0]"
   ]
  },
  {
   "cell_type": "code",
   "execution_count": null,
   "metadata": {},
   "outputs": [],
   "source": []
  },
  {
   "cell_type": "code",
   "execution_count": 49,
   "metadata": {},
   "outputs": [
    {
     "data": {
      "text/plain": [
       "<div class=\"product-details-container\"> <div class=\"details\"> <div aria-label=\"Kraft Shredded Marble Cheddar Natural Cheese.\" class=\"title\"> <h2 class=\"thumb-header\">Kraft Shredded Marble Cheddar Natural Cheese</h2> </div> <!-- ko template: { name: 'product-badges', if: !!$data.badgesAnalytics(), data: { badges: badges, badgesAnalytics: badgesAnalytics, screenReaderHidden : false } } --><!-- /ko --> <div class=\"only-for-screen-reader\" data-bind=\"template: { name: 'dynamic-thumb-qty-template-only-for-screen-reader', data: {item: $root.findCartItemByRollupId('6000196078941'), variants: 1 }}\"></div> <div aria-label=\"320 g.\" class=\"description\"> 320 g </div> <div class=\"fade\"></div> </div> <div class=\"ratings\" data-automation=\"stock-up-ratings\"> <div aria-label=\"This product has not been rated.\" class=\"stars rating-0_0\" data-bind=\"template: { name: 'star-ratings' }\"></div> <span aria-label=\"This product hasn’t been reviewed.\" class=\"review-count\">0 Reviews</span> <div class=\"fade\"></div> </div> <div class=\"pricing-spacer\" data-bind=\"component: { name: 'was-pricing', params: availability().pricing }\"> <div class=\"price-unit\" data-bind=\"template: {name: 'price-per-unit-tooltip-template'}\"></div> </div> <span class=\"all-price-sections\"> <!-- ko ifnot: availability().pricing.mapPrice --> <div class=\"only-for-screen-reader\" id=\"price\">Price</div> <div class=\"price-current\" data-bind=\"component: { name: 'current-pricing', params: { price: availability().pricing, simpleFormatting: true } }, css: { ranged: availability().pricing.ranged }\"></div> <!-- /ko --> <!-- ko if: availability().pricing.mapPrice --> <div class=\"only-for-screen-reader\" id=\"price\">Price</div> <div class=\"price-current map-price\" data-bind=\"visible: availability().pricing.mapPrice, template: {name: 'map-pricing-tooltip-template', afterRender: $root.initMapPricePopup}\"></div> <!-- /ko --> </span> </div>"
      ]
     },
     "execution_count": 49,
     "metadata": {},
     "output_type": "execute_result"
    }
   ],
   "source": [
    "results[0] "
   ]
  },
  {
   "cell_type": "code",
   "execution_count": null,
   "metadata": {},
   "outputs": [],
   "source": []
  },
  {
   "cell_type": "code",
   "execution_count": 62,
   "metadata": {},
   "outputs": [
    {
     "data": {
      "text/plain": [
       "<div class=\"product-details-container\"> <div class=\"details\"> <div aria-label=\"Great Value Vanilla Stirred Yogurt.\" class=\"title\"> <h2 class=\"thumb-header\">Great Value Vanilla Stirred Yogurt</h2> </div> <!-- ko template: { name: 'product-badges', if: !!$data.badgesAnalytics(), data: { badges: badges, badgesAnalytics: badgesAnalytics, screenReaderHidden : false } } -->\n",
       "<div class=\"badges only-for-screen-reader\" data-analytics-type=\"badges\" data-analytics-value=\"Exclusive\" data-bind=\"{ attr: { 'data-analytics-value': $data.badgesAnalytics(), 'aria-hidden' : $data.screenReaderHidden }, css : {'only-for-screen-reader' : !$data.screenReaderHidden} }\">\n",
       "<!-- ko foreach: { data: $data.badges, as: 'badge' } -->\n",
       "<span aria-label=\"On Exclusive.\" class=\"badge\" data-bind=\"text: badge.text, style: { color: badge.foregroundColor, background: badge.backgroundColor, border: badge.outlineColor }, attr: { id: badge.id, 'aria-label': 'On ' + badge.text + '.' }\" id=\"Walmart Exclusive\" style=\"color: rgb(0, 114, 206); background: rgb(255, 255, 255); border: 1px solid rgb(0, 114, 206);\">Exclusive</span>\n",
       "<!-- /ko -->\n",
       "</div>\n",
       "<!-- /ko --> <div class=\"only-for-screen-reader\" data-bind=\"template: { name: 'dynamic-thumb-qty-template-only-for-screen-reader', data: {item: $root.findCartItemByRollupId('6000134323763'), variants: 1 }}\">\n",
       "<!--ko if: $data.item != null --><!-- /ko -->\n",
       "</div> <div aria-label=\"650 g.\" class=\"description\"> 650 g </div> <div class=\"fade\"></div> </div> <div class=\"ratings\" data-automation=\"stock-up-ratings\"> <div aria-label=\"This product is rated 3.5 stars out of 5 stars,\" class=\"stars rating-3_5\" data-bind=\"template: { name: 'star-ratings' }\">\n",
       "<i class=\"star\"></i> <i class=\"star\"></i> <i class=\"star\"></i> <i class=\"star\"></i> <i class=\"star\"></i>\n",
       "</div> <span aria-label=\"based on 5 reviews.\" class=\"review-count\">5 Reviews</span> <div class=\"fade\"></div> </div> <div class=\"pricing-spacer\" data-bind=\"component: { name: 'was-pricing', params: availability().pricing }\"><div class=\"price-was\" data-bind=\"html: wasPriceDisplay\"></div><div class=\"price-cover\"></div><div class=\"price-cover-percent\"></div><div class=\"price-unit\" data-bind='template: {name: \"price-per-unit-tooltip-template\", data: pricePerUnit, afterRender: $root.initPricingPopup }'>\n",
       "<a aria-label=\". Price is measured as 27¢/100g\" class=\"popup-opener popup-align-left price-unit-tooltip\" data-bind=\"text: $data, attr:{'aria-label' : '. Price is measured as ' + $data}\" data-title=\"This is a unit of measurement to help you compare the value of this item. Please know, this is not the price of the item itself.\" data-title-headline=\"\">27¢/100g</a>\n",
       "</div></div> <span class=\"all-price-sections\"> <!-- ko ifnot: availability().pricing.mapPrice --> <div class=\"only-for-screen-reader\" id=\"price\">Price</div> <div class=\"price-current\" data-bind=\"component: { name: 'current-pricing', params: { price: availability().pricing, simpleFormatting: true } }, css: { ranged: availability().pricing.ranged }\"><div data-bind=\"possibleRangedCurrencyText: { data: price, simpleFormatting: simpleFormatting } \"><span>$</span>1.77</div><div data-bind='template: {name: \"analytics-price-template\", data: price, afterRender: $root.initVariableWeightPopup }'>\n",
       "<span class=\"product-price-analytics\" data-analytics-type=\"product-price\" data-analytics-value=\"1.77\" data-bind=\"attr: { 'data-analytics-value': $data }\" style=\"display:none;\">\n",
       "</span>\n",
       "</div></div> <!-- /ko --> <!-- ko if: availability().pricing.mapPrice --><!-- /ko --> </span> </div>"
      ]
     },
     "execution_count": 62,
     "metadata": {},
     "output_type": "execute_result"
    }
   ],
   "source": [
    "results[0]"
   ]
  },
  {
   "cell_type": "code",
   "execution_count": null,
   "metadata": {},
   "outputs": [],
   "source": []
  },
  {
   "cell_type": "code",
   "execution_count": 29,
   "metadata": {},
   "outputs": [],
   "source": [
    "titles = soup.find_all('h2', attrs={'class':'thumb-header'})"
   ]
  },
  {
   "cell_type": "code",
   "execution_count": null,
   "metadata": {},
   "outputs": [],
   "source": []
  },
  {
   "cell_type": "code",
   "execution_count": 15,
   "metadata": {},
   "outputs": [],
   "source": [
    "measure = soup.find_all('div', attrs={'class':'description'})\n"
   ]
  },
  {
   "cell_type": "code",
   "execution_count": 27,
   "metadata": {},
   "outputs": [
    {
     "data": {
      "text/plain": [
       "['Armstrong Marble Cheddar Cheese']"
      ]
     },
     "execution_count": 27,
     "metadata": {},
     "output_type": "execute_result"
    }
   ],
   "source": [
    "first_title=titles[4]\n",
    "first_title.contents"
   ]
  },
  {
   "cell_type": "code",
   "execution_count": 17,
   "metadata": {},
   "outputs": [
    {
     "ename": "NameError",
     "evalue": "name 'results' is not defined",
     "output_type": "error",
     "traceback": [
      "\u001b[1;31m---------------------------------------------------------------------------\u001b[0m",
      "\u001b[1;31mNameError\u001b[0m                                 Traceback (most recent call last)",
      "\u001b[1;32m<ipython-input-17-a1559f754e05>\u001b[0m in \u001b[0;36m<module>\u001b[1;34m\u001b[0m\n\u001b[1;32m----> 1\u001b[1;33m \u001b[0mfirst_result\u001b[0m\u001b[1;33m=\u001b[0m\u001b[0mresults\u001b[0m\u001b[1;33m[\u001b[0m\u001b[1;36m0\u001b[0m\u001b[1;33m]\u001b[0m\u001b[1;33m\u001b[0m\u001b[1;33m\u001b[0m\u001b[0m\n\u001b[0m",
      "\u001b[1;31mNameError\u001b[0m: name 'results' is not defined"
     ]
    }
   ],
   "source": [
    "first_result=results[0]"
   ]
  },
  {
   "cell_type": "code",
   "execution_count": 153,
   "metadata": {},
   "outputs": [
    {
     "data": {
      "text/plain": [
       "'Philadelphia Regular Cream Cheese Spread'"
      ]
     },
     "execution_count": 153,
     "metadata": {},
     "output_type": "execute_result"
    }
   ],
   "source": [
    "first_result.find('h2').contents[0]"
   ]
  },
  {
   "cell_type": "code",
   "execution_count": 154,
   "metadata": {},
   "outputs": [
    {
     "ename": "AttributeError",
     "evalue": "'NoneType' object has no attribute 'contents'",
     "output_type": "error",
     "traceback": [
      "\u001b[1;31m---------------------------------------------------------------------------\u001b[0m",
      "\u001b[1;31mAttributeError\u001b[0m                            Traceback (most recent call last)",
      "\u001b[1;32m<ipython-input-154-d0722205e030>\u001b[0m in \u001b[0;36m<module>\u001b[1;34m\u001b[0m\n\u001b[1;32m----> 1\u001b[1;33m \u001b[0mfirst_result\u001b[0m\u001b[1;33m.\u001b[0m\u001b[0mfind\u001b[0m\u001b[1;33m(\u001b[0m\u001b[1;34m'div'\u001b[0m\u001b[1;33m,\u001b[0m \u001b[0mattrs\u001b[0m\u001b[1;33m=\u001b[0m\u001b[1;33m{\u001b[0m\u001b[1;34m'class'\u001b[0m\u001b[1;33m:\u001b[0m\u001b[1;34m'description'\u001b[0m\u001b[1;33m}\u001b[0m\u001b[1;33m)\u001b[0m\u001b[1;33m.\u001b[0m\u001b[0mcontents\u001b[0m\u001b[1;33m[\u001b[0m\u001b[1;36m0\u001b[0m\u001b[1;33m]\u001b[0m\u001b[1;33m[\u001b[0m\u001b[1;36m1\u001b[0m\u001b[1;33m:\u001b[0m\u001b[1;33m-\u001b[0m\u001b[1;36m1\u001b[0m\u001b[1;33m]\u001b[0m\u001b[1;33m\u001b[0m\u001b[1;33m\u001b[0m\u001b[0m\n\u001b[0m",
      "\u001b[1;31mAttributeError\u001b[0m: 'NoneType' object has no attribute 'contents'"
     ]
    }
   ],
   "source": [
    "first_result.find('div', attrs={'class':'description'}).contents[0][1:-1]"
   ]
  },
  {
   "cell_type": "code",
   "execution_count": 155,
   "metadata": {},
   "outputs": [
    {
     "ename": "TypeError",
     "evalue": "'NoneType' object is not subscriptable",
     "output_type": "error",
     "traceback": [
      "\u001b[1;31m---------------------------------------------------------------------------\u001b[0m",
      "\u001b[1;31mTypeError\u001b[0m                                 Traceback (most recent call last)",
      "\u001b[1;32m<ipython-input-155-fcaf3db73209>\u001b[0m in \u001b[0;36m<module>\u001b[1;34m\u001b[0m\n\u001b[1;32m----> 1\u001b[1;33m \u001b[0mfirst_result\u001b[0m\u001b[1;33m.\u001b[0m\u001b[0mfind\u001b[0m\u001b[1;33m(\u001b[0m\u001b[1;34m'span'\u001b[0m\u001b[1;33m,\u001b[0m \u001b[0mattrs\u001b[0m\u001b[1;33m=\u001b[0m\u001b[1;33m{\u001b[0m\u001b[1;34m'class'\u001b[0m\u001b[1;33m:\u001b[0m\u001b[1;34m'product-price-analytics'\u001b[0m\u001b[1;33m}\u001b[0m\u001b[1;33m)\u001b[0m\u001b[1;33m[\u001b[0m\u001b[1;34m'data-analytics-value'\u001b[0m\u001b[1;33m]\u001b[0m\u001b[1;33m\u001b[0m\u001b[1;33m\u001b[0m\u001b[0m\n\u001b[0m",
      "\u001b[1;31mTypeError\u001b[0m: 'NoneType' object is not subscriptable"
     ]
    }
   ],
   "source": [
    "first_result.find('span', attrs={'class':'product-price-analytics'})['data-analytics-value']"
   ]
  }
 ],
 "metadata": {
  "kernelspec": {
   "display_name": "Python 3",
   "language": "python",
   "name": "python3"
  },
  "language_info": {
   "codemirror_mode": {
    "name": "ipython",
    "version": 3
   },
   "file_extension": ".py",
   "mimetype": "text/x-python",
   "name": "python",
   "nbconvert_exporter": "python",
   "pygments_lexer": "ipython3",
   "version": "3.7.1"
  }
 },
 "nbformat": 4,
 "nbformat_minor": 2
}
